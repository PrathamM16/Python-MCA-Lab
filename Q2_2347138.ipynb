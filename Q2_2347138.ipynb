{
 "cells": [
  {
   "cell_type": "code",
   "execution_count": 44,
   "metadata": {},
   "outputs": [
    {
     "name": "stdout",
     "output_type": "stream",
     "text": [
      " The given list divisible by 3 or NOT? [False, False, True, False, False, True, False, False, True, False]\n",
      "Even Numbers in the list are [484, 400, 784, 6400]\n",
      "[22, 44, 66]\n",
      "132\n",
      "\n",
      "Remove duplicate numbers in a list\n",
      "[1, 33, 44, 22, 55]\n"
     ]
    }
   ],
   "source": [
    "#1. LIST\n",
    "#Write a PYTHON script with List comprehension for the following\n",
    "#• Is the given list divisible by 3 or NOT?\n",
    "def div(a):\n",
    "    return [num % 3 == 0 for num in a]\n",
    "num= [1, 2, 3, 4, 5, 6, 7, 8, 9, 10]\n",
    "\n",
    "print(\" The given list divisible by 3 or NOT?\",div(num))\n",
    "\n",
    "#• Square of even numbers in a list\n",
    "N = [1, 22,20,28,55,80]\n",
    "even = [e * e for e in N if e % 2 == 0]\n",
    "print(\"Even Numbers in the list are\",even)\n",
    "\n",
    "#Sum of digits of all EVEN numbers in a list\n",
    "def sum1(newlist):\n",
    "    return[num for num in newlist if num%2==0]\n",
    "mylist=[1,22,33,44,55,66]\n",
    "result=sum1(mylist)\n",
    "print(result)\n",
    "sum=0\n",
    "for i in result:\n",
    "    sum+=i\n",
    "print(sum)\n",
    "\n",
    "#dublicate\n",
    "def remove_duplicates(lst):\n",
    "    return list(set(lst))\n",
    "input_list=[1,22,33,44,33,55,55]\n",
    "print(\"\\nRemove duplicate numbers in a list\")\n",
    "\n",
    "print(remove_duplicates(input_list))\n",
    "\n",
    "\n"
   ]
  },
  {
   "cell_type": "code",
   "execution_count": 51,
   "metadata": {},
   "outputs": [
    {
     "name": "stdout",
     "output_type": "stream",
     "text": [
      "16 May 2002\n"
     ]
    }
   ],
   "source": [
    "#2ND QUESTION \n",
    "student_details = {\n",
    "    'Pratham': '16 May 2002',\n",
    "    'Ranjith': '28 December 2002',\n",
    "    'Nagraj': '17 April 2002',\n",
    "    'Mahesh': '19 May 2002',\n",
    "    'Neeraj': '16 July 2002'\n",
    "}\n",
    "\n",
    "def birthDate(full_name):\n",
    "    return student_details.get(full_name, 'Student not found')\n",
    "\n",
    "# Input the student name here\n",
    "student_name = 'Pratham'\n",
    "birthdate = birthDate(student_name)\n",
    "print(birthdate)\n"
   ]
  },
  {
   "cell_type": "code",
   "execution_count": null,
   "metadata": {},
   "outputs": [],
   "source": []
  }
 ],
 "metadata": {
  "kernelspec": {
   "display_name": "venv",
   "language": "python",
   "name": "python3"
  },
  "language_info": {
   "codemirror_mode": {
    "name": "ipython",
    "version": 3
   },
   "file_extension": ".py",
   "mimetype": "text/x-python",
   "name": "python",
   "nbconvert_exporter": "python",
   "pygments_lexer": "ipython3",
   "version": "3.11.3"
  },
  "orig_nbformat": 4
 },
 "nbformat": 4,
 "nbformat_minor": 2
}
